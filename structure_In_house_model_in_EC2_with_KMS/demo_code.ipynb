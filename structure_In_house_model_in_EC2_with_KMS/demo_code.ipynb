{
 "cells": [
  {
   "cell_type": "markdown",
   "id": "bbb5d834-c46c-47ff-8e7b-c6271973b90f",
   "metadata": {},
   "source": [
    "## Simulating In-House and AWS Encryption\n",
    "---\n"
   ]
  },
  {
   "cell_type": "code",
   "execution_count": 7,
   "id": "1fb1c6ca-f56b-4889-a6be-0bce18576e81",
   "metadata": {},
   "outputs": [
    {
     "name": "stdout",
     "output_type": "stream",
     "text": [
      "1. Encrypted with in-house key: encrypted(Hello, World context )-with-in-house-key(companyXYZkey)\n",
      "2. Encrypted with AWS key: aws-encrypted(encrypted(Hello, World context )-with-in-house-key(companyXYZkey))-with-aws-key(awsS3key)\n",
      "3. Decrypted by AWS (AWS layer): encrypted(Hello, World context -with-in-house-key(companyXYZkey)\n",
      "debug >> encrypted(Hello, World context -with-in-house-key(companyXYZkey)\n",
      "4. Decrypted with in-house key (Final Data): Hello, World context \n"
     ]
    }
   ],
   "source": [
    "def in_house_encrypt(data, in_house_key):\n",
    "    # A mock function to represent encrypting data with an in-house key\n",
    "    encrypted_data = f\"encrypted({data})-with-in-house-key({in_house_key})\"\n",
    "    return encrypted_data\n",
    "\n",
    "def aws_encrypt(data, aws_key):\n",
    "    # A mock function to represent AWS encrypting the already encrypted data with its own key\n",
    "    double_encrypted_data = f\"aws-encrypted({data})-with-aws-key({aws_key})\"\n",
    "    return double_encrypted_data\n",
    "\n",
    "def aws_decrypt(double_encrypted_data, aws_key):\n",
    "    # A mock function to represent AWS decrypting the data with its own key\n",
    "    encrypted_data = double_encrypted_data.replace(f\"-with-aws-key({aws_key})\", \"\")\n",
    "    encrypted_data = encrypted_data.replace(\"aws-encrypted(\", \"\")\n",
    "    encrypted_data = encrypted_data.replace(\")\", \"\")\n",
    "    encrypted_data +=\")\"\n",
    "    return encrypted_data\n",
    "\n",
    "def in_house_decrypt(encrypted_data, in_house_key):\n",
    "    # A mock function to represent decrypting data with an in-house key\n",
    "    print(f\"debug >> {encrypted_data}\")\n",
    "    data = encrypted_data.replace(f\"-with-in-house-key({in_house_key})\", \"\")\n",
    "    data = data.replace(\"encrypted(\", \"\")\n",
    "    data = data.replace(\")\", \"\")\n",
    "    return data\n",
    "\n",
    "# Example data and keys\n",
    "file_content = \"Hello, World context \"\n",
    "in_house_key = \"companyXYZkey\"\n",
    "aws_key = \"awsS3key\"\n",
    "\n",
    "# Step 1: In-house encryption\n",
    "encrypted_with_in_house = in_house_encrypt(file_content, in_house_key)\n",
    "print(f\"1. Encrypted with in-house key: {encrypted_with_in_house}\")\n",
    "\n",
    "# Step 2: Sending to AWS and AWS encrypts it with its key\n",
    "encrypted_with_aws = aws_encrypt(encrypted_with_in_house, aws_key)\n",
    "print(f\"2. Encrypted with AWS key: {encrypted_with_aws}\")\n",
    "\n",
    "# Step 3: AWS decrypts its layer of encryption when requested\n",
    "aws_decrypted_data = aws_decrypt(encrypted_with_aws, aws_key)\n",
    "print(f\"3. Decrypted by AWS (AWS layer): {aws_decrypted_data}\")\n",
    "\n",
    "# Step 4: In-house decryption after downloading from AWS\n",
    "final_data = in_house_decrypt(aws_decrypted_data, in_house_key)\n",
    "print(f\"4. Decrypted with in-house key (Final Data): {final_data}\")"
   ]
  },
  {
   "cell_type": "code",
   "execution_count": null,
   "id": "59f00c59-bc6f-4521-9528-fa06f846a7a9",
   "metadata": {},
   "outputs": [],
   "source": []
  },
  {
   "cell_type": "markdown",
   "id": "65913dd5-5836-46d5-840b-b24dfd3f4647",
   "metadata": {},
   "source": [
    "## Step 2: Encrypt the Model File Locally\n",
    "Python code to encrypt the trained_model.h5 file using AWS KMS-generated data keys:\n"
   ]
  },
  {
   "cell_type": "code",
   "execution_count": 8,
   "id": "fb574cad-47cd-4ebf-9b3a-9646ab8e5048",
   "metadata": {},
   "outputs": [
    {
     "ename": "ModuleNotFoundError",
     "evalue": "No module named 'boto3'",
     "output_type": "error",
     "traceback": [
      "\u001b[0;31m---------------------------------------------------------------------------\u001b[0m",
      "\u001b[0;31mModuleNotFoundError\u001b[0m                       Traceback (most recent call last)",
      "Cell \u001b[0;32mIn[8], line 1\u001b[0m\n\u001b[0;32m----> 1\u001b[0m \u001b[38;5;28;01mimport\u001b[39;00m \u001b[38;5;21;01mboto3\u001b[39;00m\n\u001b[1;32m      2\u001b[0m \u001b[38;5;28;01mfrom\u001b[39;00m \u001b[38;5;21;01mcryptography\u001b[39;00m\u001b[38;5;21;01m.\u001b[39;00m\u001b[38;5;21;01mfernet\u001b[39;00m \u001b[38;5;28;01mimport\u001b[39;00m Fernet\n\u001b[1;32m      4\u001b[0m \u001b[38;5;66;03m# Initialize a boto3 KMS client\u001b[39;00m\n",
      "\u001b[0;31mModuleNotFoundError\u001b[0m: No module named 'boto3'"
     ]
    }
   ],
   "source": [
    "import boto3\n",
    "from cryptography.fernet import Fernet\n",
    "\n",
    "# Initialize a boto3 KMS client\n",
    "kms_client = boto3.client('kms')\n",
    "\n",
    "# Request a new data key for encryption\n",
    "data_key = kms_client.generate_data_key(KeyId='alias/YourKmsKeyAlias', KeySpec='AES_256')\n",
    "\n",
    "# Extract the plain data key for encryption\n",
    "plain_text_data_key = data_key['Plaintext']\n",
    "encrypted_data_key = data_key['CiphertextBlob']\n",
    "\n",
    "# Use the plaintext data key with Fernet to encrypt the file\n",
    "fernet = Fernet(plain_text_data_key)\n",
    "\n",
    "# Load your model file\n",
    "with open('trained_model.h5', 'rb') as model_file:\n",
    "    model_data = model_file.read()\n",
    "\n",
    "# Encrypt the model data\n",
    "encrypted_model_data = fernet.encrypt(model_data)\n",
    "\n",
    "# Save the encrypted model to a new file\n",
    "with open('trained_model_encrypted.h5', 'wb') as encrypted_file:\n",
    "    encrypted_file.write(encrypted_model_data)\n",
    "\n",
    "# Store the encrypted data key securely\n",
    "with open('data_key_encrypted.bin', 'wb') as key_file:\n",
    "    key_file.write(encrypted_data_key)\n"
   ]
  },
  {
   "cell_type": "code",
   "execution_count": null,
   "id": "84b510d2-0045-47f7-bdc5-f82b760ff084",
   "metadata": {},
   "outputs": [],
   "source": [
    "\n"
   ]
  },
  {
   "cell_type": "code",
   "execution_count": null,
   "id": "34a041d5-705e-43bd-9e42-c674f4bcf689",
   "metadata": {},
   "outputs": [],
   "source": [
    "## Step 3 , upload to S3\n",
    "aws s3 cp trained_model_encrypted.h5 s3://your-bucket-name/data_model/\n",
    "aws s3 cp data_key_encrypted.bin s3://your-bucket-name/data_model/\n"
   ]
  },
  {
   "cell_type": "markdown",
   "id": "d2a7cbf1-12ff-47bc-8fc8-bad7e3d00a20",
   "metadata": {},
   "source": [
    "## Step 5 decrypt in Ec2"
   ]
  },
  {
   "cell_type": "code",
   "execution_count": null,
   "id": "62020256-88c8-44ff-9125-f3827e156b8f",
   "metadata": {},
   "outputs": [],
   "source": [
    "\n",
    "from cryptography.fernet import Fernet\n",
    "import boto3\n",
    "\n",
    "# Initialize a boto3 KMS client\n",
    "kms_client = boto3.client('kms')\n",
    "\n",
    "# Initialize a boto3 client for S3\n",
    "s3_client = boto3.client('s3')\n",
    "\n",
    "# Download the model and encrypted data key from S3\n",
    "s3_client.download_file('your-bucket-name', 'data_model/data_key_encrypted.bin', 'data_key_encrypted.bin')\n",
    "\n",
    "s3_client.download_file('your-bucket-name', 'data_model/data_key_encrypted.bin', 'trained_model_encrypted.h5')\n",
    "\n",
    "\n",
    "# open bin\n",
    "with open('data_key_encrypted.bin', 'rb') as key_file:\n",
    "    encrypted_data_key = key_file.read()\n",
    "\n",
    "# Decrypt the data key\n",
    "data_key_plaintext = kms_client.decrypt(CiphertextBlob=encrypted_data_key)['Plaintext']\n",
    "\n",
    "# Use the plaintext data key with Fernet to decrypt the file\n",
    "fernet = Fernet(data_key_plaintext)\n",
    "\n",
    "# Load your encrypted model file\n",
    "with open('trained_model_encrypted.h5', 'rb') as encrypted_file:\n",
    "    encrypted_model_data = encrypted_file.read()\n",
    "\n",
    "# Decrypt the model data\n",
    "model_data = fernet.decrypt(encrypted_model_data)\n",
    "\n",
    "# Save the decrypted model to a new file or load directly into memory\n",
    "with open('trained_model.h5', 'wb') as model_file:\n",
    "    model_file.write(model_data)"
   ]
  },
  {
   "cell_type": "code",
   "execution_count": null,
   "id": "a642df99-5ad7-4aff-b938-3c0f8099f3a7",
   "metadata": {},
   "outputs": [],
   "source": []
  },
  {
   "cell_type": "code",
   "execution_count": null,
   "id": "70ac269a-c5b3-4de8-a1dc-5ccdef990abc",
   "metadata": {},
   "outputs": [],
   "source": []
  }
 ],
 "metadata": {
  "kernelspec": {
   "display_name": "Python (my_env)",
   "language": "python",
   "name": "myenv"
  },
  "language_info": {
   "codemirror_mode": {
    "name": "ipython",
    "version": 3
   },
   "file_extension": ".py",
   "mimetype": "text/x-python",
   "name": "python",
   "nbconvert_exporter": "python",
   "pygments_lexer": "ipython3",
   "version": "3.8.2rc2"
  }
 },
 "nbformat": 4,
 "nbformat_minor": 5
}
