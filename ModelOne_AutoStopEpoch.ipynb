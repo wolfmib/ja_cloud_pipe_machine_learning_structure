{
 "cells": [
  {
   "cell_type": "code",
   "execution_count": 2,
   "id": "52ea4fe7-044a-4330-98e8-b3f84f97de80",
   "metadata": {},
   "outputs": [],
   "source": [
    "#### random fill data to train and validation folder with 80% ratio ######## \n",
    "\n",
    "## data from kagglecatsanddogs_3367a \n",
    "\n",
    "\n",
    "import os\n",
    "import shutil\n",
    "from random import sample\n",
    "\n",
    "\n",
    "\n",
    "# Define paths\n",
    "base_dir = './data_one/PetImages'  # Replace with the path to your PetImages folder\n",
    "classes = ['Cat', 'Dog']\n",
    "train_dir = os.path.join(\"model_one\", 'train')\n",
    "validation_dir = os.path.join(\"model_one\", 'validation')\n",
    "\n",
    "# Split ratio\n",
    "train_ratio = 0.8\n",
    "\n",
    "# Make new dirs\n",
    "for cl in classes:\n",
    "    os.makedirs(os.path.join(train_dir, cl), exist_ok=True)\n",
    "    os.makedirs(os.path.join(validation_dir, cl), exist_ok=True)\n",
    "\n",
    "# Move files\n",
    "for cl in classes:\n",
    "    # Source dir\n",
    "    src_dir = os.path.join(base_dir, cl)\n",
    "    all_files = os.listdir(src_dir)\n",
    "    \n",
    "    # Shuffle and split files\n",
    "    train_files = sample(all_files, int(len(all_files) * train_ratio))\n",
    "    validation_files = list(set(all_files) - set(train_files))\n",
    "    \n",
    "    # Move to train_dir\n",
    "    for file_name in train_files:\n",
    "        shutil.move(os.path.join(src_dir, file_name), os.path.join(train_dir, cl))\n",
    "    \n",
    "    # Move to validation_dir\n",
    "    for file_name in validation_files:\n",
    "        shutil.move(os.path.join(src_dir, file_name), os.path.join(validation_dir, cl))\n"
   ]
  },
  {
   "cell_type": "code",
   "execution_count": 3,
   "id": "986c69f8-03d5-474a-9d03-84f7e8219d88",
   "metadata": {},
   "outputs": [
    {
     "name": "stdout",
     "output_type": "stream",
     "text": [
      "Found 19966 images belonging to 2 classes.\n",
      "Found 4993 images belonging to 2 classes.\n"
     ]
    },
    {
     "name": "stderr",
     "output_type": "stream",
     "text": [
      "2024-04-22 13:53:36.883186: I tensorflow/core/platform/cpu_feature_guard.cc:142] This TensorFlow binary is optimized with oneAPI Deep Neural Network Library (oneDNN)to use the following CPU instructions in performance-critical operations:  AVX2 FMA\n",
      "To enable them in other operations, rebuild TensorFlow with the appropriate compiler flags.\n",
      "2024-04-22 13:53:36.912502: I tensorflow/compiler/xla/service/service.cc:168] XLA service 0x7fde50ce5380 initialized for platform Host (this does not guarantee that XLA will be used). Devices:\n",
      "2024-04-22 13:53:36.912531: I tensorflow/compiler/xla/service/service.cc:176]   StreamExecutor device (0): Host, Default Version\n"
     ]
    },
    {
     "name": "stdout",
     "output_type": "stream",
     "text": [
      "BatchSize 20 and we get epoch 998, steps249\n",
      "Epoch 1/100\n",
      "998/998 [==============================] - ETA: 0s - loss: 0.7010 - accuracy: 0.5003"
     ]
    },
    {
     "name": "stderr",
     "output_type": "stream",
     "text": [
      "/Users/johnny_hung/Documents/ja_interview_entretien/ja_git/myenv/lib/python3.8/site-packages/PIL/TiffImagePlugin.py:890: UserWarning: Truncated File Read\n",
      "  warnings.warn(str(msg))\n"
     ]
    },
    {
     "name": "stdout",
     "output_type": "stream",
     "text": [
      "998/998 [==============================] - 768s 769ms/step - loss: 0.7010 - accuracy: 0.5003 - val_loss: 0.6931 - val_accuracy: 0.5008\n",
      "Epoch 2/100\n",
      "998/998 [==============================] - 889s 891ms/step - loss: 0.6935 - accuracy: 0.4933 - val_loss: 0.6931 - val_accuracy: 0.5000\n",
      "Epoch 3/100\n",
      "998/998 [==============================] - 827s 829ms/step - loss: 0.6933 - accuracy: 0.4976 - val_loss: 0.6932 - val_accuracy: 0.4994\n",
      "Epoch 4/100\n",
      "998/998 [==============================] - 820s 821ms/step - loss: 0.6933 - accuracy: 0.4990 - val_loss: 0.6931 - val_accuracy: 0.5008\n",
      "Epoch 5/100\n",
      "998/998 [==============================] - 828s 830ms/step - loss: 0.6932 - accuracy: 0.4921 - val_loss: 0.6931 - val_accuracy: 0.4998\n",
      "Epoch 6/100\n",
      "998/998 [==============================] - 820s 822ms/step - loss: 0.6932 - accuracy: 0.5004 - val_loss: 0.6932 - val_accuracy: 0.5000\n"
     ]
    }
   ],
   "source": [
    "import tensorflow as tf\n",
    "from tensorflow.keras.applications import EfficientNetB0\n",
    "from tensorflow.keras.layers import GlobalAveragePooling2D, Dense, Dropout\n",
    "from tensorflow.keras.models import Model\n",
    "from tensorflow.keras.callbacks import EarlyStopping\n",
    "from tensorflow.keras.preprocessing.image import ImageDataGenerator\n",
    "\n",
    "# Image augmentation\n",
    "train_datagen = ImageDataGenerator(\n",
    "    rescale=1./255,\n",
    "    rotation_range=30,\n",
    "    width_shift_range=0.2,\n",
    "    height_shift_range=0.2,\n",
    "    shear_range=0.2,\n",
    "    zoom_range=0.2,\n",
    "    horizontal_flip=True\n",
    ")\n",
    "\n",
    "test_datagen = ImageDataGenerator(rescale=1./255)\n",
    "\n",
    "# Flow training images in batches of 20 using train_datagen generator\n",
    "train_generator = train_datagen.flow_from_directory(\n",
    "    train_dir,\n",
    "    target_size=(150, 150),\n",
    "    batch_size=20,\n",
    "    class_mode='binary'\n",
    ")\n",
    "\n",
    "# Flow validation images in batches of 20 using test_datagen generator\n",
    "validation_generator = test_datagen.flow_from_directory(\n",
    "    validation_dir,\n",
    "    target_size=(150, 150),\n",
    "    batch_size=20,\n",
    "    class_mode='binary'\n",
    ")\n",
    "\n",
    "\n",
    "\n",
    "# Load the base model, pre-trained on ImageNet\n",
    "base_model = EfficientNetB0(weights='imagenet', include_top=False, input_shape=(150, 150, 3))\n",
    "\n",
    "# Freeze the convolutional base\n",
    "base_model.trainable = False\n",
    "\n",
    "# Create a new model on top\n",
    "x = base_model.output\n",
    "x = GlobalAveragePooling2D()(x)\n",
    "x = Dense(1024, activation='relu')(x)\n",
    "x = Dropout(0.3)(x)  # Reduced dropout rate as discussed\n",
    "predictions = Dense(1, activation='sigmoid')(x)\n",
    "\n",
    "model = Model(inputs=base_model.input, outputs=predictions)\n",
    "\n",
    "# Compile the model\n",
    "model.compile(optimizer='adam', loss='binary_crossentropy', metrics=['accuracy'])\n",
    "\n",
    "## Hyper parameter\n",
    "steps_per_epoch = train_generator.samples // train_generator.batch_size\n",
    "validation_steps = validation_generator.samples // validation_generator.batch_size\n",
    "print(f\"BatchSize {train_generator.batch_size} and we get epoch {steps_per_epoch}, steps{validation_steps}\")\n",
    "\n",
    "# Early Stopping\n",
    "early_stopping = EarlyStopping(monitor='val_loss', patience=5, restore_best_weights=True)\n",
    "\n",
    "# Train the model\n",
    "history = model.fit(\n",
    "    train_generator,\n",
    "    steps_per_epoch=steps_per_epoch,\n",
    "    epochs=100,  # Set a higher epoch and let early stopping manage the stopping\n",
    "    validation_data=validation_generator,\n",
    "    validation_steps=validation_steps,\n",
    "    callbacks=[early_stopping]\n",
    ")\n",
    "\n",
    "# Save the model\n",
    "model.save('cats_and_dogs_classifier_exp1_auto_stopepoch.h5') #cats_and_dogs_classifier.h5\n"
   ]
  },
  {
   "cell_type": "code",
   "execution_count": null,
   "id": "45a89703-1fdb-4a04-9930-4846c4853553",
   "metadata": {},
   "outputs": [],
   "source": []
  },
  {
   "cell_type": "code",
   "execution_count": null,
   "id": "f3659371-680d-495a-bb5f-35c032ffbe89",
   "metadata": {},
   "outputs": [],
   "source": []
  }
 ],
 "metadata": {
  "kernelspec": {
   "display_name": "Python (my_env)",
   "language": "python",
   "name": "myenv"
  },
  "language_info": {
   "codemirror_mode": {
    "name": "ipython",
    "version": 3
   },
   "file_extension": ".py",
   "mimetype": "text/x-python",
   "name": "python",
   "nbconvert_exporter": "python",
   "pygments_lexer": "ipython3",
   "version": "3.8.2rc2"
  }
 },
 "nbformat": 4,
 "nbformat_minor": 5
}
